{
 "cells": [
  {
   "cell_type": "code",
   "execution_count": 2,
   "id": "1d9e814d",
   "metadata": {},
   "outputs": [],
   "source": [
    "import pickle\n",
    "import pandas as pd\n",
    "import numpy as np\n"
   ]
  },
  {
   "cell_type": "code",
   "execution_count": 3,
   "id": "a187df44",
   "metadata": {},
   "outputs": [],
   "source": [
    "with open(\"linear_reg_car.pkl\",\"rb\") as f:\n",
    "    model=pickle.load(f)"
   ]
  },
  {
   "cell_type": "code",
   "execution_count": 4,
   "id": "17c9c9f0",
   "metadata": {},
   "outputs": [
    {
     "data": {
      "text/html": [
       "<style>#sk-container-id-1 {color: black;background-color: white;}#sk-container-id-1 pre{padding: 0;}#sk-container-id-1 div.sk-toggleable {background-color: white;}#sk-container-id-1 label.sk-toggleable__label {cursor: pointer;display: block;width: 100%;margin-bottom: 0;padding: 0.3em;box-sizing: border-box;text-align: center;}#sk-container-id-1 label.sk-toggleable__label-arrow:before {content: \"▸\";float: left;margin-right: 0.25em;color: #696969;}#sk-container-id-1 label.sk-toggleable__label-arrow:hover:before {color: black;}#sk-container-id-1 div.sk-estimator:hover label.sk-toggleable__label-arrow:before {color: black;}#sk-container-id-1 div.sk-toggleable__content {max-height: 0;max-width: 0;overflow: hidden;text-align: left;background-color: #f0f8ff;}#sk-container-id-1 div.sk-toggleable__content pre {margin: 0.2em;color: black;border-radius: 0.25em;background-color: #f0f8ff;}#sk-container-id-1 input.sk-toggleable__control:checked~div.sk-toggleable__content {max-height: 200px;max-width: 100%;overflow: auto;}#sk-container-id-1 input.sk-toggleable__control:checked~label.sk-toggleable__label-arrow:before {content: \"▾\";}#sk-container-id-1 div.sk-estimator input.sk-toggleable__control:checked~label.sk-toggleable__label {background-color: #d4ebff;}#sk-container-id-1 div.sk-label input.sk-toggleable__control:checked~label.sk-toggleable__label {background-color: #d4ebff;}#sk-container-id-1 input.sk-hidden--visually {border: 0;clip: rect(1px 1px 1px 1px);clip: rect(1px, 1px, 1px, 1px);height: 1px;margin: -1px;overflow: hidden;padding: 0;position: absolute;width: 1px;}#sk-container-id-1 div.sk-estimator {font-family: monospace;background-color: #f0f8ff;border: 1px dotted black;border-radius: 0.25em;box-sizing: border-box;margin-bottom: 0.5em;}#sk-container-id-1 div.sk-estimator:hover {background-color: #d4ebff;}#sk-container-id-1 div.sk-parallel-item::after {content: \"\";width: 100%;border-bottom: 1px solid gray;flex-grow: 1;}#sk-container-id-1 div.sk-label:hover label.sk-toggleable__label {background-color: #d4ebff;}#sk-container-id-1 div.sk-serial::before {content: \"\";position: absolute;border-left: 1px solid gray;box-sizing: border-box;top: 0;bottom: 0;left: 50%;z-index: 0;}#sk-container-id-1 div.sk-serial {display: flex;flex-direction: column;align-items: center;background-color: white;padding-right: 0.2em;padding-left: 0.2em;position: relative;}#sk-container-id-1 div.sk-item {position: relative;z-index: 1;}#sk-container-id-1 div.sk-parallel {display: flex;align-items: stretch;justify-content: center;background-color: white;position: relative;}#sk-container-id-1 div.sk-item::before, #sk-container-id-1 div.sk-parallel-item::before {content: \"\";position: absolute;border-left: 1px solid gray;box-sizing: border-box;top: 0;bottom: 0;left: 50%;z-index: -1;}#sk-container-id-1 div.sk-parallel-item {display: flex;flex-direction: column;z-index: 1;position: relative;background-color: white;}#sk-container-id-1 div.sk-parallel-item:first-child::after {align-self: flex-end;width: 50%;}#sk-container-id-1 div.sk-parallel-item:last-child::after {align-self: flex-start;width: 50%;}#sk-container-id-1 div.sk-parallel-item:only-child::after {width: 0;}#sk-container-id-1 div.sk-dashed-wrapped {border: 1px dashed gray;margin: 0 0.4em 0.5em 0.4em;box-sizing: border-box;padding-bottom: 0.4em;background-color: white;}#sk-container-id-1 div.sk-label label {font-family: monospace;font-weight: bold;display: inline-block;line-height: 1.2em;}#sk-container-id-1 div.sk-label-container {text-align: center;}#sk-container-id-1 div.sk-container {/* jupyter's `normalize.less` sets `[hidden] { display: none; }` but bootstrap.min.css set `[hidden] { display: none !important; }` so we also need the `!important` here to be able to override the default hidden behavior on the sphinx rendered scikit-learn.org. See: https://github.com/scikit-learn/scikit-learn/issues/21755 */display: inline-block !important;position: relative;}#sk-container-id-1 div.sk-text-repr-fallback {display: none;}</style><div id=\"sk-container-id-1\" class=\"sk-top-container\"><div class=\"sk-text-repr-fallback\"><pre>LinearRegression()</pre><b>In a Jupyter environment, please rerun this cell to show the HTML representation or trust the notebook. <br />On GitHub, the HTML representation is unable to render, please try loading this page with nbviewer.org.</b></div><div class=\"sk-container\" hidden><div class=\"sk-item\"><div class=\"sk-estimator sk-toggleable\"><input class=\"sk-toggleable__control sk-hidden--visually\" id=\"sk-estimator-id-1\" type=\"checkbox\" checked><label for=\"sk-estimator-id-1\" class=\"sk-toggleable__label sk-toggleable__label-arrow\">LinearRegression</label><div class=\"sk-toggleable__content\"><pre>LinearRegression()</pre></div></div></div></div></div>"
      ],
      "text/plain": [
       "LinearRegression()"
      ]
     },
     "execution_count": 4,
     "metadata": {},
     "output_type": "execute_result"
    }
   ],
   "source": [
    "model"
   ]
  },
  {
   "cell_type": "code",
   "execution_count": 5,
   "id": "6dc86f6e",
   "metadata": {},
   "outputs": [
    {
     "name": "stdout",
     "output_type": "stream",
     "text": [
      "body-style_sedan\n",
      "engine-type_dohc\n",
      "fuel-system_mpfi\n"
     ]
    },
    {
     "ename": "NameError",
     "evalue": "name 'columns_names' is not defined",
     "output_type": "error",
     "traceback": [
      "\u001b[1;31m---------------------------------------------------------------------------\u001b[0m",
      "\u001b[1;31mNameError\u001b[0m                                 Traceback (most recent call last)",
      "Input \u001b[1;32mIn [5]\u001b[0m, in \u001b[0;36m<cell line: 38>\u001b[1;34m()\u001b[0m\n\u001b[0;32m     34\u001b[0m \u001b[38;5;28mprint\u001b[39m(fuel_system_col)\n\u001b[0;32m     36\u001b[0m \u001b[38;5;66;03m## finding the index number\u001b[39;00m\n\u001b[1;32m---> 38\u001b[0m body_style_index\u001b[38;5;241m=\u001b[39mnp\u001b[38;5;241m.\u001b[39mwhere(\u001b[43mcolumns_names\u001b[49m\u001b[38;5;241m==\u001b[39mbody_style_col)[\u001b[38;5;241m0\u001b[39m][\u001b[38;5;241m0\u001b[39m]\n\u001b[0;32m     39\u001b[0m engine_type_index\u001b[38;5;241m=\u001b[39mnp\u001b[38;5;241m.\u001b[39mwhere(columns_names\u001b[38;5;241m==\u001b[39mengine_type_col)[\u001b[38;5;241m0\u001b[39m][\u001b[38;5;241m0\u001b[39m]\n\u001b[0;32m     40\u001b[0m fuel_system_index\u001b[38;5;241m=\u001b[39mnp\u001b[38;5;241m.\u001b[39mwhere(columns_names\u001b[38;5;241m==\u001b[39mfuel_system_col)[\u001b[38;5;241m0\u001b[39m][\u001b[38;5;241m0\u001b[39m]\n",
      "\u001b[1;31mNameError\u001b[0m: name 'columns_names' is not defined"
     ]
    }
   ],
   "source": [
    "symboling=3.00\n",
    "normalized_losses=115.00\n",
    "fuel_type=\"gas\"\n",
    "aspiration=\"turbo\"\n",
    "num_of_doors=\"four\"\n",
    "drive_wheels=\"4wd\"\n",
    "engine_location=1.00\n",
    "wheel_base=88.60\n",
    "length=168.80\n",
    "width=64.10\n",
    "height=48.80\n",
    "curb_weight=2548.00\n",
    "num_of_cylinders=4.00\n",
    "engine_size=130.00\n",
    "bore=3.47\n",
    "stroke=2.68\n",
    "compression_ratio=9.00\n",
    "horsepower=111.00\n",
    "peak_rpm=5000.00\n",
    "city_mpg=21.00\n",
    "highway_mpg=27.00\n",
    "\n",
    "# one hot encoded values\n",
    "body_style=\"sedan\"\n",
    "engine_type=\"dohc\"\n",
    "fuel_system=\"mpfi\"\n",
    "\n",
    "# defining the columns name\n",
    "body_style_col=\"body-style_\" + body_style\n",
    "engine_type_col=\"engine-type_\" + engine_type\n",
    "fuel_system_col=\"fuel-system_\" + fuel_system\n",
    "print(body_style_col)\n",
    "print(engine_type_col)\n",
    "print(fuel_system_col)\n",
    "\n",
    "## finding the index number\n",
    "\n",
    "body_style_index=np.where(columns_names==body_style_col)[0][0]\n",
    "engine_type_index=np.where(columns_names==engine_type_col)[0][0]\n",
    "fuel_system_index=np.where(columns_names==fuel_system_col)[0][0]\n",
    "print(body_style_index)\n",
    "print(engine_type_index)\n",
    "print(fuel_system_index)"
   ]
  },
  {
   "cell_type": "code",
   "execution_count": 7,
   "id": "7c0728a8",
   "metadata": {},
   "outputs": [
    {
     "ename": "NameError",
     "evalue": "name 'columns_names' is not defined",
     "output_type": "error",
     "traceback": [
      "\u001b[1;31m---------------------------------------------------------------------------\u001b[0m",
      "\u001b[1;31mNameError\u001b[0m                                 Traceback (most recent call last)",
      "Input \u001b[1;32mIn [7]\u001b[0m, in \u001b[0;36m<cell line: 1>\u001b[1;34m()\u001b[0m\n\u001b[1;32m----> 1\u001b[0m array\u001b[38;5;241m=\u001b[39mnp\u001b[38;5;241m.\u001b[39mzeros(\u001b[38;5;28mlen\u001b[39m(\u001b[43mcolumns_names\u001b[49m),dtype\u001b[38;5;241m=\u001b[39m\u001b[38;5;28mint\u001b[39m)\n\u001b[0;32m      2\u001b[0m array[\u001b[38;5;241m0\u001b[39m]\u001b[38;5;241m=\u001b[39msymboling\n\u001b[0;32m      3\u001b[0m array[\u001b[38;5;241m1\u001b[39m]\u001b[38;5;241m=\u001b[39mnormalized_losses\n",
      "\u001b[1;31mNameError\u001b[0m: name 'columns_names' is not defined"
     ]
    }
   ],
   "source": [
    "array=np.zeros(len(columns_names),dtype=int)\n",
    "array[0]=symboling\n",
    "array[1]=normalized_losses\n",
    "array[2]=fuel_type_value[fuel_type]\n",
    "array[3]=aspiration_value[aspiration]\n",
    "array[4]=num_of_doors_value[num_of_doors]\n",
    "array[5]=drive_wheels_value[drive_wheels]\n",
    "array[6]=engine_location\n",
    "array[7]=wheel_base\n",
    "array[8]=length\n",
    "array[9]=width\n",
    "array[10]=curb_weight\n",
    "array[11]=num_of_cylinders\n",
    "array[12]=engine_size\n",
    "array[13]=bore\n",
    "array[14]=stroke\n",
    "array[15]=compression_ratio\n",
    "array[16]=horsepower\n",
    "array[17]=peak_rpm\n",
    "array[18]=city_mpg\n",
    "array[19]=highway_mpg\n",
    "\n",
    "# one hot encoded\n",
    "array[body_style_index]=1\n",
    "array[engine_type_index]=1\n",
    "array[fuel_system_index]=1\n",
    "array"
   ]
  },
  {
   "cell_type": "code",
   "execution_count": 6,
   "id": "132317e8",
   "metadata": {},
   "outputs": [
    {
     "ename": "NameError",
     "evalue": "name 'array' is not defined",
     "output_type": "error",
     "traceback": [
      "\u001b[1;31m---------------------------------------------------------------------------\u001b[0m",
      "\u001b[1;31mNameError\u001b[0m                                 Traceback (most recent call last)",
      "Input \u001b[1;32mIn [6]\u001b[0m, in \u001b[0;36m<cell line: 1>\u001b[1;34m()\u001b[0m\n\u001b[1;32m----> 1\u001b[0m predictes_price_of_car\u001b[38;5;241m=\u001b[39mmodel\u001b[38;5;241m.\u001b[39mpredict([\u001b[43marray\u001b[49m])[\u001b[38;5;241m0\u001b[39m]\n\u001b[0;32m      2\u001b[0m \u001b[38;5;28mprint\u001b[39m(\u001b[38;5;124m\"\u001b[39m\u001b[38;5;124mThe price of car\u001b[39m\u001b[38;5;124m\"\u001b[39m,predictes_price_of_car)\n",
      "\u001b[1;31mNameError\u001b[0m: name 'array' is not defined"
     ]
    }
   ],
   "source": [
    "predictes_price_of_car=model.predict([array])[0]\n",
    "print(\"The price of car\",predictes_price_of_car)"
   ]
  },
  {
   "cell_type": "code",
   "execution_count": null,
   "id": "37c45a8c",
   "metadata": {},
   "outputs": [],
   "source": []
  }
 ],
 "metadata": {
  "kernelspec": {
   "display_name": "Python 3 (ipykernel)",
   "language": "python",
   "name": "python3"
  },
  "language_info": {
   "codemirror_mode": {
    "name": "ipython",
    "version": 3
   },
   "file_extension": ".py",
   "mimetype": "text/x-python",
   "name": "python",
   "nbconvert_exporter": "python",
   "pygments_lexer": "ipython3",
   "version": "3.10.5"
  }
 },
 "nbformat": 4,
 "nbformat_minor": 5
}
